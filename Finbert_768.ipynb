{
  "cells": [
    {
      "cell_type": "markdown",
      "metadata": {
        "id": "view-in-github",
        "colab_type": "text"
      },
      "source": [
        "<a href=\"https://colab.research.google.com/github/dorsaalh/Cryptocurrency_Price_Prediction/blob/main/Finbert_768.ipynb\" target=\"_parent\"><img src=\"https://colab.research.google.com/assets/colab-badge.svg\" alt=\"Open In Colab\"/></a>"
      ]
    },
    {
      "cell_type": "code",
      "execution_count": null,
      "metadata": {
        "id": "JjNt0jyS1QK0",
        "colab": {
          "base_uri": "https://localhost:8080/"
        },
        "outputId": "01abd4ee-62fc-4651-a344-8c78230a3f2b"
      },
      "outputs": [
        {
          "output_type": "stream",
          "name": "stdout",
          "text": [
            "Looking in indexes: https://pypi.org/simple, https://us-python.pkg.dev/colab-wheels/public/simple/\n",
            "Requirement already satisfied: transformers in /usr/local/lib/python3.7/dist-packages (4.23.1)\n",
            "Requirement already satisfied: pyyaml>=5.1 in /usr/local/lib/python3.7/dist-packages (from transformers) (6.0)\n",
            "Requirement already satisfied: tqdm>=4.27 in /usr/local/lib/python3.7/dist-packages (from transformers) (4.64.1)\n",
            "Requirement already satisfied: packaging>=20.0 in /usr/local/lib/python3.7/dist-packages (from transformers) (21.3)\n",
            "Requirement already satisfied: importlib-metadata in /usr/local/lib/python3.7/dist-packages (from transformers) (5.0.0)\n",
            "Requirement already satisfied: filelock in /usr/local/lib/python3.7/dist-packages (from transformers) (3.8.0)\n",
            "Requirement already satisfied: tokenizers!=0.11.3,<0.14,>=0.11.1 in /usr/local/lib/python3.7/dist-packages (from transformers) (0.13.1)\n",
            "Requirement already satisfied: huggingface-hub<1.0,>=0.10.0 in /usr/local/lib/python3.7/dist-packages (from transformers) (0.10.1)\n",
            "Requirement already satisfied: requests in /usr/local/lib/python3.7/dist-packages (from transformers) (2.23.0)\n",
            "Requirement already satisfied: numpy>=1.17 in /usr/local/lib/python3.7/dist-packages (from transformers) (1.21.6)\n",
            "Requirement already satisfied: regex!=2019.12.17 in /usr/local/lib/python3.7/dist-packages (from transformers) (2022.6.2)\n",
            "Requirement already satisfied: typing-extensions>=3.7.4.3 in /usr/local/lib/python3.7/dist-packages (from huggingface-hub<1.0,>=0.10.0->transformers) (4.1.1)\n",
            "Requirement already satisfied: pyparsing!=3.0.5,>=2.0.2 in /usr/local/lib/python3.7/dist-packages (from packaging>=20.0->transformers) (3.0.9)\n",
            "Requirement already satisfied: zipp>=0.5 in /usr/local/lib/python3.7/dist-packages (from importlib-metadata->transformers) (3.9.0)\n",
            "Requirement already satisfied: idna<3,>=2.5 in /usr/local/lib/python3.7/dist-packages (from requests->transformers) (2.10)\n",
            "Requirement already satisfied: urllib3!=1.25.0,!=1.25.1,<1.26,>=1.21.1 in /usr/local/lib/python3.7/dist-packages (from requests->transformers) (1.24.3)\n",
            "Requirement already satisfied: certifi>=2017.4.17 in /usr/local/lib/python3.7/dist-packages (from requests->transformers) (2022.9.24)\n",
            "Requirement already satisfied: chardet<4,>=3.0.2 in /usr/local/lib/python3.7/dist-packages (from requests->transformers) (3.0.4)\n"
          ]
        }
      ],
      "source": [
        "!pip install transformers"
      ]
    },
    {
      "cell_type": "code",
      "source": [
        "from pathlib import Path\n",
        "import shutil\n",
        "import os\n",
        "import logging\n",
        "from textblob import TextBlob\n",
        "import transformers\n",
        "from transformers import AutoModelForSequenceClassification\n",
        "import sys\n",
        "sys.path.append('/content/drive/MyDrive/finbert/finBERT-master')\n",
        "from finbert.finbert import *\n",
        "#import finbert.utils as tools\n",
        "from transformers import AutoTokenizer\n",
        "tokenizer = AutoTokenizer.from_pretrained('bert-base-uncased')\n",
        "\n",
        "%load_ext autoreload\n",
        "%autoreload 2\n",
        "\n",
        "project_dir = Path.cwd().parent\n",
        "pd.set_option('max_colwidth', -1)"
      ],
      "metadata": {
        "colab": {
          "base_uri": "https://localhost:8080/"
        },
        "id": "SR1TxDmyOMgI",
        "outputId": "5b7c8fb7-513d-48be-80cf-ea164b172926"
      },
      "execution_count": null,
      "outputs": [
        {
          "output_type": "stream",
          "name": "stderr",
          "text": [
            "/usr/local/lib/python3.7/dist-packages/ipykernel_launcher.py:19: FutureWarning: Passing a negative integer is deprecated in version 1.0 and will not be supported in future version. Instead, use None to not limit the column width.\n"
          ]
        }
      ]
    },
    {
      "cell_type": "code",
      "execution_count": null,
      "metadata": {
        "id": "F022aSrZE01k"
      },
      "outputs": [],
      "source": [
        "data = pd.read_csv(\"/content/drive/MyDrive/data_for_finbert.csv\")"
      ]
    },
    {
      "cell_type": "code",
      "execution_count": null,
      "metadata": {
        "colab": {
          "base_uri": "https://localhost:8080/",
          "height": 424
        },
        "id": "liB0cXYEGK59",
        "outputId": "56358cd4-9672-480a-9c84-2716ae200bfe"
      },
      "outputs": [
        {
          "output_type": "execute_result",
          "data": {
            "text/plain": [
              "      Unnamed: 0  \\\n",
              "0     0            \n",
              "1     1            \n",
              "2     2            \n",
              "3     3            \n",
              "4     4            \n",
              "...  ..            \n",
              "2547  2547         \n",
              "2548  2548         \n",
              "2549  2549         \n",
              "2550  2550         \n",
              "2551  2551         \n",
              "\n",
              "                                                                                                                                              text  \\\n",
              "0     RT @ArmstrongDrew: Well, Pfizer's having a hell of a week. First earnings, now this (stock up 11% premarket) $PFE\\n\\nhttps://t.co/9lMZd3m3Lv   \n",
              "1     RT @markets: U.S. stock futures rise https://t.co/MsndJFmn2i https://t.co/lHskGoYdSs                                                           \n",
              "2     The U.S. labor market got back on track last month with a larger-than-forecast payrolls gain, indicating greater pr… https://t.co/Lyx3YzCuNh   \n",
              "3     Follow the latest on the October jobs report here https://t.co/g3G65YXIQP https://t.co/0VnXlrQCA5                                              \n",
              "4     It will take years to fully understand the pandemic’s ripple effects on our health, economy and society. But early… https://t.co/9KJgp30Cte    \n",
              "...                                                                                                                                           ...    \n",
              "2547  009🔺 @BITCOIN_AL_DIA https://t.co/UtwYD9CnlD                                                                                                   \n",
              "2548  008🔺 @REALDIEGOVALDEZ https://t.co/h25WTLtegd                                                                                                  \n",
              "2549  007🔺 @kursadbucak https://t.co/PVIlyhrbMj                                                                                                      \n",
              "2550  006🔺 @healthy_pockets https://t.co/fitDIMC8ke                                                                                                  \n",
              "2551  005🔺 @ThuanCapital https://t.co/SDu5jYT0iP                                                                                                     \n",
              "\n",
              "        account  label  \n",
              "0     Bloomberg  0      \n",
              "1     Bloomberg  0      \n",
              "2     Bloomberg  0      \n",
              "3     Bloomberg  0      \n",
              "4     Bloomberg  0      \n",
              "...         ... ..      \n",
              "2547  Binance    0      \n",
              "2548  Binance    0      \n",
              "2549  Binance    0      \n",
              "2550  Binance    0      \n",
              "2551  Binance    0      \n",
              "\n",
              "[2552 rows x 4 columns]"
            ],
            "text/html": [
              "\n",
              "  <div id=\"df-3405ea57-ee25-4ce3-972f-f962498da4f1\">\n",
              "    <div class=\"colab-df-container\">\n",
              "      <div>\n",
              "<style scoped>\n",
              "    .dataframe tbody tr th:only-of-type {\n",
              "        vertical-align: middle;\n",
              "    }\n",
              "\n",
              "    .dataframe tbody tr th {\n",
              "        vertical-align: top;\n",
              "    }\n",
              "\n",
              "    .dataframe thead th {\n",
              "        text-align: right;\n",
              "    }\n",
              "</style>\n",
              "<table border=\"1\" class=\"dataframe\">\n",
              "  <thead>\n",
              "    <tr style=\"text-align: right;\">\n",
              "      <th></th>\n",
              "      <th>Unnamed: 0</th>\n",
              "      <th>text</th>\n",
              "      <th>account</th>\n",
              "      <th>label</th>\n",
              "    </tr>\n",
              "  </thead>\n",
              "  <tbody>\n",
              "    <tr>\n",
              "      <th>0</th>\n",
              "      <td>0</td>\n",
              "      <td>RT @ArmstrongDrew: Well, Pfizer's having a hell of a week. First earnings, now this (stock up 11% premarket) $PFE\\n\\nhttps://t.co/9lMZd3m3Lv</td>\n",
              "      <td>Bloomberg</td>\n",
              "      <td>0</td>\n",
              "    </tr>\n",
              "    <tr>\n",
              "      <th>1</th>\n",
              "      <td>1</td>\n",
              "      <td>RT @markets: U.S. stock futures rise https://t.co/MsndJFmn2i https://t.co/lHskGoYdSs</td>\n",
              "      <td>Bloomberg</td>\n",
              "      <td>0</td>\n",
              "    </tr>\n",
              "    <tr>\n",
              "      <th>2</th>\n",
              "      <td>2</td>\n",
              "      <td>The U.S. labor market got back on track last month with a larger-than-forecast payrolls gain, indicating greater pr… https://t.co/Lyx3YzCuNh</td>\n",
              "      <td>Bloomberg</td>\n",
              "      <td>0</td>\n",
              "    </tr>\n",
              "    <tr>\n",
              "      <th>3</th>\n",
              "      <td>3</td>\n",
              "      <td>Follow the latest on the October jobs report here https://t.co/g3G65YXIQP https://t.co/0VnXlrQCA5</td>\n",
              "      <td>Bloomberg</td>\n",
              "      <td>0</td>\n",
              "    </tr>\n",
              "    <tr>\n",
              "      <th>4</th>\n",
              "      <td>4</td>\n",
              "      <td>It will take years to fully understand the pandemic’s ripple effects on our health, economy and society. But early… https://t.co/9KJgp30Cte</td>\n",
              "      <td>Bloomberg</td>\n",
              "      <td>0</td>\n",
              "    </tr>\n",
              "    <tr>\n",
              "      <th>...</th>\n",
              "      <td>...</td>\n",
              "      <td>...</td>\n",
              "      <td>...</td>\n",
              "      <td>...</td>\n",
              "    </tr>\n",
              "    <tr>\n",
              "      <th>2547</th>\n",
              "      <td>2547</td>\n",
              "      <td>009🔺 @BITCOIN_AL_DIA https://t.co/UtwYD9CnlD</td>\n",
              "      <td>Binance</td>\n",
              "      <td>0</td>\n",
              "    </tr>\n",
              "    <tr>\n",
              "      <th>2548</th>\n",
              "      <td>2548</td>\n",
              "      <td>008🔺 @REALDIEGOVALDEZ https://t.co/h25WTLtegd</td>\n",
              "      <td>Binance</td>\n",
              "      <td>0</td>\n",
              "    </tr>\n",
              "    <tr>\n",
              "      <th>2549</th>\n",
              "      <td>2549</td>\n",
              "      <td>007🔺 @kursadbucak https://t.co/PVIlyhrbMj</td>\n",
              "      <td>Binance</td>\n",
              "      <td>0</td>\n",
              "    </tr>\n",
              "    <tr>\n",
              "      <th>2550</th>\n",
              "      <td>2550</td>\n",
              "      <td>006🔺 @healthy_pockets https://t.co/fitDIMC8ke</td>\n",
              "      <td>Binance</td>\n",
              "      <td>0</td>\n",
              "    </tr>\n",
              "    <tr>\n",
              "      <th>2551</th>\n",
              "      <td>2551</td>\n",
              "      <td>005🔺 @ThuanCapital https://t.co/SDu5jYT0iP</td>\n",
              "      <td>Binance</td>\n",
              "      <td>0</td>\n",
              "    </tr>\n",
              "  </tbody>\n",
              "</table>\n",
              "<p>2552 rows × 4 columns</p>\n",
              "</div>\n",
              "      <button class=\"colab-df-convert\" onclick=\"convertToInteractive('df-3405ea57-ee25-4ce3-972f-f962498da4f1')\"\n",
              "              title=\"Convert this dataframe to an interactive table.\"\n",
              "              style=\"display:none;\">\n",
              "        \n",
              "  <svg xmlns=\"http://www.w3.org/2000/svg\" height=\"24px\"viewBox=\"0 0 24 24\"\n",
              "       width=\"24px\">\n",
              "    <path d=\"M0 0h24v24H0V0z\" fill=\"none\"/>\n",
              "    <path d=\"M18.56 5.44l.94 2.06.94-2.06 2.06-.94-2.06-.94-.94-2.06-.94 2.06-2.06.94zm-11 1L8.5 8.5l.94-2.06 2.06-.94-2.06-.94L8.5 2.5l-.94 2.06-2.06.94zm10 10l.94 2.06.94-2.06 2.06-.94-2.06-.94-.94-2.06-.94 2.06-2.06.94z\"/><path d=\"M17.41 7.96l-1.37-1.37c-.4-.4-.92-.59-1.43-.59-.52 0-1.04.2-1.43.59L10.3 9.45l-7.72 7.72c-.78.78-.78 2.05 0 2.83L4 21.41c.39.39.9.59 1.41.59.51 0 1.02-.2 1.41-.59l7.78-7.78 2.81-2.81c.8-.78.8-2.07 0-2.86zM5.41 20L4 18.59l7.72-7.72 1.47 1.35L5.41 20z\"/>\n",
              "  </svg>\n",
              "      </button>\n",
              "      \n",
              "  <style>\n",
              "    .colab-df-container {\n",
              "      display:flex;\n",
              "      flex-wrap:wrap;\n",
              "      gap: 12px;\n",
              "    }\n",
              "\n",
              "    .colab-df-convert {\n",
              "      background-color: #E8F0FE;\n",
              "      border: none;\n",
              "      border-radius: 50%;\n",
              "      cursor: pointer;\n",
              "      display: none;\n",
              "      fill: #1967D2;\n",
              "      height: 32px;\n",
              "      padding: 0 0 0 0;\n",
              "      width: 32px;\n",
              "    }\n",
              "\n",
              "    .colab-df-convert:hover {\n",
              "      background-color: #E2EBFA;\n",
              "      box-shadow: 0px 1px 2px rgba(60, 64, 67, 0.3), 0px 1px 3px 1px rgba(60, 64, 67, 0.15);\n",
              "      fill: #174EA6;\n",
              "    }\n",
              "\n",
              "    [theme=dark] .colab-df-convert {\n",
              "      background-color: #3B4455;\n",
              "      fill: #D2E3FC;\n",
              "    }\n",
              "\n",
              "    [theme=dark] .colab-df-convert:hover {\n",
              "      background-color: #434B5C;\n",
              "      box-shadow: 0px 1px 3px 1px rgba(0, 0, 0, 0.15);\n",
              "      filter: drop-shadow(0px 1px 2px rgba(0, 0, 0, 0.3));\n",
              "      fill: #FFFFFF;\n",
              "    }\n",
              "  </style>\n",
              "\n",
              "      <script>\n",
              "        const buttonEl =\n",
              "          document.querySelector('#df-3405ea57-ee25-4ce3-972f-f962498da4f1 button.colab-df-convert');\n",
              "        buttonEl.style.display =\n",
              "          google.colab.kernel.accessAllowed ? 'block' : 'none';\n",
              "\n",
              "        async function convertToInteractive(key) {\n",
              "          const element = document.querySelector('#df-3405ea57-ee25-4ce3-972f-f962498da4f1');\n",
              "          const dataTable =\n",
              "            await google.colab.kernel.invokeFunction('convertToInteractive',\n",
              "                                                     [key], {});\n",
              "          if (!dataTable) return;\n",
              "\n",
              "          const docLinkHtml = 'Like what you see? Visit the ' +\n",
              "            '<a target=\"_blank\" href=https://colab.research.google.com/notebooks/data_table.ipynb>data table notebook</a>'\n",
              "            + ' to learn more about interactive tables.';\n",
              "          element.innerHTML = '';\n",
              "          dataTable['output_type'] = 'display_data';\n",
              "          await google.colab.output.renderOutput(dataTable, element);\n",
              "          const docLink = document.createElement('div');\n",
              "          docLink.innerHTML = docLinkHtml;\n",
              "          element.appendChild(docLink);\n",
              "        }\n",
              "      </script>\n",
              "    </div>\n",
              "  </div>\n",
              "  "
            ]
          },
          "metadata": {},
          "execution_count": 4
        }
      ],
      "source": [
        "data"
      ]
    },
    {
      "cell_type": "code",
      "execution_count": null,
      "metadata": {
        "id": "EEdszGuFGfFe"
      },
      "outputs": [],
      "source": [
        "text = data.text.values"
      ]
    },
    {
      "cell_type": "code",
      "execution_count": null,
      "metadata": {
        "colab": {
          "base_uri": "https://localhost:8080/"
        },
        "id": "CD3UvMrPlrIm",
        "outputId": "ad04257b-8ec3-447a-fb08-c96664824ac8"
      },
      "outputs": [
        {
          "output_type": "execute_result",
          "data": {
            "text/plain": [
              "2552"
            ]
          },
          "metadata": {},
          "execution_count": 6
        }
      ],
      "source": [
        "len(text)"
      ]
    },
    {
      "cell_type": "code",
      "source": [
        "cl_path = 'ProsusAI/finbert'\n",
        "finbert = AutoModelForSequenceClassification.from_pretrained(cl_path, cache_dir=None, num_labels=3)"
      ],
      "metadata": {
        "id": "idDPmrLOQrIa"
      },
      "execution_count": null,
      "outputs": []
    },
    {
      "cell_type": "code",
      "source": [
        "import nltk\n",
        "nltk.download('punkt')"
      ],
      "metadata": {
        "colab": {
          "base_uri": "https://localhost:8080/"
        },
        "id": "upBzbnbPRKQ2",
        "outputId": "54f3706e-8cb2-48b6-a8e7-1acd7ccdc8b2"
      },
      "execution_count": null,
      "outputs": [
        {
          "output_type": "stream",
          "name": "stderr",
          "text": [
            "[nltk_data] Downloading package punkt to /root/nltk_data...\n",
            "[nltk_data]   Package punkt is already up-to-date!\n"
          ]
        },
        {
          "output_type": "execute_result",
          "data": {
            "text/plain": [
              "True"
            ]
          },
          "metadata": {},
          "execution_count": 8
        }
      ]
    },
    {
      "cell_type": "code",
      "execution_count": null,
      "metadata": {
        "id": "G-yrw8F2jITL"
      },
      "outputs": [],
      "source": [
        " class Model_768(transformers.models.bert.modeling_bert.BertForSequenceClassification):\n",
        "\n",
        "    def forward(\n",
        "        self,\n",
        "        input_ids=None,\n",
        "        attention_mask=None,\n",
        "        token_type_ids=None,\n",
        "        position_ids=None,\n",
        "        head_mask=None,\n",
        "        inputs_embeds=None,\n",
        "        labels=None,\n",
        "        output_attentions=None,\n",
        "        output_hidden_states=None,\n",
        "        return_dict=None,\n",
        "    ):\n",
        "        r\"\"\"\n",
        "        labels (`torch.LongTensor` of shape `(batch_size,)`, *optional*):\n",
        "            Labels for computing the sequence classification/regression loss. Indices should be in `[0, ...,\n",
        "            config.num_labels - 1]`. If `config.num_labels == 1` a regression loss is computed (Mean-Square loss), If\n",
        "            `config.num_labels > 1` a classification loss is computed (Cross-Entropy).\n",
        "        \"\"\"\n",
        "        return_dict = return_dict if return_dict is not None else self.config.use_return_dict\n",
        "\n",
        "        outputs = self.bert(\n",
        "            input_ids,\n",
        "            attention_mask=attention_mask,\n",
        "            token_type_ids=token_type_ids,\n",
        "            position_ids=position_ids,\n",
        "            head_mask=head_mask,\n",
        "            inputs_embeds=inputs_embeds,\n",
        "            output_attentions=output_attentions,\n",
        "            output_hidden_states=output_hidden_states,\n",
        "            return_dict=return_dict,\n",
        "        )\n",
        "\n",
        "        pooled_output = outputs[1]\n",
        "\n",
        "        \n",
        "        return pooled_output"
      ]
    },
    {
      "cell_type": "code",
      "execution_count": null,
      "metadata": {
        "id": "1t9WLYYwGGDW"
      },
      "outputs": [],
      "source": [
        "model = Model_768.from_pretrained(cl_path, cache_dir=None, num_labels=3)"
      ]
    },
    {
      "cell_type": "code",
      "source": [
        "model.bert.encoder.layer[10].intermediate.dense.weight"
      ],
      "metadata": {
        "colab": {
          "base_uri": "https://localhost:8080/"
        },
        "id": "c8uLgB611Cis",
        "outputId": "8697eb97-bfe6-4815-a812-7dbae69ed7e6"
      },
      "execution_count": null,
      "outputs": [
        {
          "output_type": "execute_result",
          "data": {
            "text/plain": [
              "Parameter containing:\n",
              "tensor([[-0.0718, -0.0310,  0.0214,  ..., -0.0296,  0.0285,  0.0754],\n",
              "        [ 0.0736,  0.0472, -0.0160,  ..., -0.0956,  0.0134, -0.0311],\n",
              "        [ 0.0158,  0.0003,  0.0028,  ...,  0.0029, -0.0329, -0.0027],\n",
              "        ...,\n",
              "        [ 0.0586, -0.0044,  0.0707,  ..., -0.0213, -0.0047, -0.0098],\n",
              "        [-0.0325, -0.0271, -0.0084,  ...,  0.0234, -0.0085,  0.0163],\n",
              "        [-0.0166, -0.0063,  0.0339,  ..., -0.0126,  0.0050,  0.0667]],\n",
              "       requires_grad=True)"
            ]
          },
          "metadata": {},
          "execution_count": 11
        }
      ]
    },
    {
      "cell_type": "code",
      "execution_count": null,
      "metadata": {
        "colab": {
          "base_uri": "https://localhost:8080/"
        },
        "id": "GTBrnU7GJNw8",
        "outputId": "1ca5a834-0c46-40ab-9bfe-b5b2bb26ec60"
      },
      "outputs": [
        {
          "output_type": "execute_result",
          "data": {
            "text/plain": [
              "Linear(in_features=768, out_features=3, bias=True)"
            ]
          },
          "metadata": {},
          "execution_count": 12
        }
      ],
      "source": [
        "model.classifier"
      ]
    },
    {
      "cell_type": "code",
      "execution_count": null,
      "metadata": {
        "id": "y1BcGW7NJeMo"
      },
      "outputs": [],
      "source": [
        "text = \"\"\"\n",
        "Bitcoin price has increased unexpectedly.  \n",
        "Bitcoin price has decreased.\n",
        "\"\"\""
      ]
    },
    {
      "cell_type": "code",
      "source": [
        "def my_predict(text, model, write_to_csv=False, path=None, use_gpu=False, gpu_name='cuda:0', batch_size=5):\n",
        "    \"\"\"\n",
        "    Predict sentiments of sentences in a given text. The function first tokenizes sentences, make predictions and write\n",
        "    results.\n",
        "    Parameters\n",
        "    ----------\n",
        "    text: string\n",
        "        text to be analyzed\n",
        "    model: BertForSequenceClassification\n",
        "        path to the classifier model\n",
        "    write_to_csv (optional): bool\n",
        "    path (optional): string\n",
        "        path to write the string\n",
        "    use_gpu: (optional): bool \n",
        "        enables inference on GPU\n",
        "    gpu_name: (optional): string\n",
        "        multi-gpu support: allows specifying which gpu to use\n",
        "    batch_size: (optional): int\n",
        "        size of batching chunks\n",
        "    \"\"\"\n",
        "    model.eval()\n",
        "\n",
        "    sentences = sent_tokenize(text)\n",
        "    print(sentences)\n",
        "    print(len(sentences))\n",
        "\n",
        "    device = gpu_name if use_gpu and torch.cuda.is_available() else \"cpu\"\n",
        "    logging.info(\"Using device: %s \" % device)\n",
        "    label_list = ['positive', 'negative', 'neutral']\n",
        "    label_dict = {0: 'positive', 1: 'negative', 2: 'neutral'}\n",
        "    # result = pd.DataFrame(columns=['sentence', 'logit'])\n",
        "    logit_list = []\n",
        "    for batch in chunks(sentences, batch_size):\n",
        "        examples = [InputExample(str(i), sentence) for i, sentence in enumerate(batch)]\n",
        "        features = convert_examples_to_features(examples, label_list, 64, tokenizer)\n",
        "        all_input_ids = torch.tensor([f.input_ids for f in features], dtype=torch.long).to(device)\n",
        "        all_attention_mask = torch.tensor([f.attention_mask for f in features], dtype=torch.long).to(device)\n",
        "        all_token_type_ids = torch.tensor([f.token_type_ids for f in features], dtype=torch.long).to(device)\n",
        "        with torch.no_grad():\n",
        "            model = model.to(device)\n",
        "\n",
        "            # logging.info(logits)\n",
        "            \n",
        "            # logits = softmax(np.array(logits.cpu()))\n",
        "            # sentiment_score = pd.Series(logits[:, 0] - logits[:, 1])\n",
        "            # predictions = np.squeeze(np.argmax(logits, axis=1))\n",
        "\n",
        "            # batch_result = {'sentence': batch[0]}\n",
        "            logit_list.append(np.array(model(all_input_ids, all_attention_mask, all_token_type_ids).cpu()))\n",
        "                            # 'prediction': predictions,\n",
        "                            # 'sentiment_score': sentiment_score}\n",
        "\n",
        "            # batch_result = pd.DataFrame(batch_result,columns=['sentence'])\n",
        "            # result = pd.concat([result, batch_result], ignore_index=True)\n",
        "\n",
        "    # result['prediction'] = result.prediction.apply(lambda x: label_dict[x])\n",
        "    # if write_to_csv:\n",
        "        # result.to_csv(path, sep=',', index=False)\n",
        "\n",
        "    return np.vstack(logit_list)"
      ],
      "metadata": {
        "id": "KrupwPaF2HIv"
      },
      "execution_count": null,
      "outputs": []
    }
  ],
  "metadata": {
    "accelerator": "TPU",
    "colab": {
      "collapsed_sections": [],
      "provenance": [],
      "include_colab_link": true
    },
    "kernelspec": {
      "display_name": "Python 3",
      "name": "python3"
    },
    "language_info": {
      "name": "python"
    }
  },
  "nbformat": 4,
  "nbformat_minor": 0
}